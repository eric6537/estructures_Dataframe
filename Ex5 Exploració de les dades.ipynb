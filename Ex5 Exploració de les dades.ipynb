{
 "cells": [
  {
   "cell_type": "markdown",
   "metadata": {},
   "source": [
    "# Exercici 1"
   ]
  },
  {
   "cell_type": "code",
   "execution_count": 103,
   "metadata": {},
   "outputs": [
    {
     "name": "stdout",
     "output_type": "stream",
     "text": [
      "   Unnamed: 0  Year  Month  DayofMonth  DayOfWeek  DepTime  CRSDepTime  \\\n",
      "0           0  2008      1           3          4   2003.0        1955   \n",
      "1           1  2008      1           3          4    754.0         735   \n",
      "2           2  2008      1           3          4    628.0         620   \n",
      "3           4  2008      1           3          4   1829.0        1755   \n",
      "4           5  2008      1           3          4   1940.0        1915   \n",
      "\n",
      "   ArrTime  CRSArrTime UniqueCarrier  ...  TaxiIn TaxiOut  Cancelled  \\\n",
      "0   2211.0        2225            WN  ...     4.0     8.0          0   \n",
      "1   1002.0        1000            WN  ...     5.0    10.0          0   \n",
      "2    804.0         750            WN  ...     3.0    17.0          0   \n",
      "3   1959.0        1925            WN  ...     3.0    10.0          0   \n",
      "4   2121.0        2110            WN  ...     4.0    10.0          0   \n",
      "\n",
      "   CancellationCode  Diverted  CarrierDelay  WeatherDelay NASDelay  \\\n",
      "0                 N         0           NaN           NaN      NaN   \n",
      "1                 N         0           NaN           NaN      NaN   \n",
      "2                 N         0           NaN           NaN      NaN   \n",
      "3                 N         0           2.0           0.0      0.0   \n",
      "4                 N         0           NaN           NaN      NaN   \n",
      "\n",
      "  SecurityDelay  LateAircraftDelay  \n",
      "0           NaN                NaN  \n",
      "1           NaN                NaN  \n",
      "2           NaN                NaN  \n",
      "3           0.0               32.0  \n",
      "4           NaN                NaN  \n",
      "\n",
      "[5 rows x 30 columns]\n"
     ]
    }
   ],
   "source": [
    "import pandas as pd\n",
    "dades=pd.read_csv(\"DelayedFlights.csv\")\n",
    "print(dades.head())"
   ]
  },
  {
   "cell_type": "code",
   "execution_count": 106,
   "metadata": {},
   "outputs": [
    {
     "name": "stdout",
     "output_type": "stream",
     "text": [
      "  UniqueCarrier  DepTime  CRSDepTime  ArrTime  CRSArrTime  AirTime  \\\n",
      "0            WN   2003.0        1955   2211.0        2225    116.0   \n",
      "1            WN    754.0         735   1002.0        1000    113.0   \n",
      "2            WN    628.0         620    804.0         750     76.0   \n",
      "3            WN   1829.0        1755   1959.0        1925     77.0   \n",
      "4            WN   1940.0        1915   2121.0        2110     87.0   \n",
      "\n",
      "   ActualElapsedTime Origin Dest  Distance  Cancelled  Diverted  \n",
      "0              128.0    IAD  TPA       810          0         0  \n",
      "1              128.0    IAD  TPA       810          0         0  \n",
      "2               96.0    IND  BWI       515          0         0  \n",
      "3               90.0    IND  BWI       515          0         0  \n",
      "4              101.0    IND  JAX       688          0         0  \n"
     ]
    }
   ],
   "source": [
    "original_df = dades[[\"UniqueCarrier\",\"DepTime\",\"CRSDepTime\",\"ArrTime\",\"CRSArrTime\",\"AirTime\",\"ActualElapsedTime\",\n",
    "            \"Origin\",\"Dest\",\"Distance\",\"Cancelled\",\"Diverted\"]]\n",
    "print(original_df.head())"
   ]
  },
  {
   "cell_type": "markdown",
   "metadata": {},
   "source": [
    "# Exercici 2\n",
    "\n",
    "Resum estadístic:"
   ]
  },
  {
   "cell_type": "code",
   "execution_count": 107,
   "metadata": {},
   "outputs": [
    {
     "name": "stdout",
     "output_type": "stream",
     "text": [
      "       DepTime  CRSDepTime  ArrTime  CRSArrTime  AirTime  ActualElapsedTime  \\\n",
      "count  1936758     1936758  1929648     1936758  1928371            1928371   \n",
      "mean      1518        1467     1610        1634      108                133   \n",
      "std        450         424      548         464       68                 72   \n",
      "min          1           0        1           0        0                 14   \n",
      "25%       1203        1135     1316        1325       58                 80   \n",
      "50%       1545        1510     1715        1705       90                116   \n",
      "75%       1900        1815     2030        2014      137                165   \n",
      "max       2400        2359     2400        2400     1091               1114   \n",
      "\n",
      "       Distance  Cancelled  Diverted  \n",
      "count   1936758    1936758   1936758  \n",
      "mean        765          0         0  \n",
      "std         574          0         0  \n",
      "min          11          0         0  \n",
      "25%         338          0         0  \n",
      "50%         606          0         0  \n",
      "75%         998          0         0  \n",
      "max        4962          1         1  \n"
     ]
    }
   ],
   "source": [
    "print(original_df.describe().astype(int))"
   ]
  },
  {
   "cell_type": "markdown",
   "metadata": {},
   "source": [
    "Quantes dades falten per columna:"
   ]
  },
  {
   "cell_type": "code",
   "execution_count": 108,
   "metadata": {},
   "outputs": [
    {
     "name": "stdout",
     "output_type": "stream",
     "text": [
      "Numero de missing data de la columna UniqueCarrier : 0\n",
      "Numero de missing data de la columna DepTime : 0\n",
      "Numero de missing data de la columna CRSDepTime : 0\n",
      "Numero de missing data de la columna ArrTime : 7110\n",
      "Numero de missing data de la columna CRSArrTime : 0\n",
      "Numero de missing data de la columna AirTime : 8387\n",
      "Numero de missing data de la columna ActualElapsedTime : 8387\n",
      "Numero de missing data de la columna Origin : 0\n",
      "Numero de missing data de la columna Dest : 0\n",
      "Numero de missing data de la columna Distance : 0\n",
      "Numero de missing data de la columna Cancelled : 0\n",
      "Numero de missing data de la columna Diverted : 0\n"
     ]
    }
   ],
   "source": [
    "for i in range(original_df.columns.size):\n",
    "    print(\"Numero de missing data de la columna\",original_df.columns[i],\":\",original_df.iloc[:,i].isnull().sum())"
   ]
  },
  {
   "cell_type": "markdown",
   "metadata": {},
   "source": [
    "Columnes noves:"
   ]
  },
  {
   "cell_type": "code",
   "execution_count": 109,
   "metadata": {},
   "outputs": [
    {
     "name": "stdout",
     "output_type": "stream",
     "text": [
      "  UniqueCarrier  DepTime  CRSDepTime  ArrTime  CRSArrTime  AirTime  \\\n",
      "0            WN   2003.0        1955   2211.0        2225    116.0   \n",
      "1            WN    754.0         735   1002.0        1000    113.0   \n",
      "2            WN    628.0         620    804.0         750     76.0   \n",
      "\n",
      "   ActualElapsedTime Origin Dest  Distance  Cancelled  Diverted  \\\n",
      "0              128.0    IAD  TPA       810          0         0   \n",
      "1              128.0    IAD  TPA       810          0         0   \n",
      "2               96.0    IND  BWI       515          0         0   \n",
      "\n",
      "   Velocitat Mitja  Retard Recorregut      Data  \n",
      "0         6.982759    14.0    IAD-TPA  2008-1-3  \n",
      "1         7.168142    -2.0    IAD-TPA  2008-1-3  \n",
      "2         6.776316   -54.0    IND-BWI  2008-1-3  \n"
     ]
    }
   ],
   "source": [
    "df = original_df.copy()\n",
    "df['Velocitat Mitja'] = df[\"Distance\"]/df['AirTime']\n",
    "df[\"Retard\"]=df[\"CRSArrTime\"]-df[\"ArrTime\"]\n",
    "df[\"Recorregut\"]=df[\"Origin\"]+\"-\"+df[\"Dest\"]\n",
    "df[\"Data\"]=dades[\"Year\"].astype(str)+\"-\"+dades[\"Month\"].astype(str)+\"-\"+dades[\"DayofMonth\"].astype(str)\n",
    "print(df[0:3])"
   ]
  },
  {
   "cell_type": "code",
   "execution_count": 110,
   "metadata": {},
   "outputs": [
    {
     "name": "stdout",
     "output_type": "stream",
     "text": [
      "                  count      mean       std       min       25%       50%  \\\n",
      "UniqueCarrier                                                               \n",
      "9E              51569.0  6.154878  1.527270  0.921053  5.489362  6.250000   \n",
      "AA             190910.0  7.259712  1.048810  1.493333  6.675676  7.356784   \n",
      "AQ                744.0  6.162694  1.746267  1.853659  4.761905  5.821429   \n",
      "AS              39010.0  6.973870  1.091505  0.861111  6.480769  7.098485   \n",
      "B6              54925.0  6.950537  1.871220  1.364964  6.209302  7.179245   \n",
      "CO              99731.0  7.212533  1.152749  1.489362  6.714473  7.362385   \n",
      "DL             113728.0  6.957986  1.097148  1.168750  6.333333  7.000000   \n",
      "EV              81762.0  6.181359  3.492878  0.731034  5.448980  6.355263   \n",
      "F9              28224.0  7.293447  0.863100  3.438710  6.740741  7.253012   \n",
      "FL              70969.0  6.833310  0.903602  2.316327  6.317073  6.888000   \n",
      "HA               7472.0  6.217539  1.645362  0.560440  4.857143  5.821429   \n",
      "MQ             141223.0  5.897994  1.245859  1.015152  5.108696  5.984375   \n",
      "NW              78843.0  6.713165  1.202498  1.244444  5.984375  6.830000   \n",
      "OH              52453.0  5.972635  2.436575  0.354839  5.227848  6.048000   \n",
      "OO             131780.0       inf       NaN  0.746667  4.360000  5.937500   \n",
      "UA             140904.0  7.199950  1.089712  1.511111  6.516667  7.261364   \n",
      "US              98007.0  6.829946  1.257197  1.666667  6.065574  6.888889   \n",
      "WN             376201.0  6.609222  1.087417  1.288043  5.913580  6.582645   \n",
      "XE             103147.0       inf       NaN  1.012500  5.673469  6.447368   \n",
      "YV              66769.0  5.799680  1.456939  0.688525  4.757576  5.894737   \n",
      "\n",
      "                    75%         max  \n",
      "UniqueCarrier                        \n",
      "9E             6.921053  245.000000  \n",
      "AA             7.960000   63.333333  \n",
      "AQ             7.692739   21.600000  \n",
      "AS             7.633663   13.040000  \n",
      "B6             7.787879  274.000000  \n",
      "CO             7.954545   11.784431  \n",
      "DL             7.610000   27.084337  \n",
      "EV             7.020833  932.000000  \n",
      "F9             7.866667   55.653846  \n",
      "FL             7.384615   72.000000  \n",
      "HA             8.077084   11.111111  \n",
      "MQ             6.757143   30.571429  \n",
      "NW             7.544974   10.415789  \n",
      "OH             6.789474  461.000000  \n",
      "OO             6.900552         inf  \n",
      "UA             7.938697   22.571429  \n",
      "US             7.651884   10.880000  \n",
      "WN             7.278146  164.000000  \n",
      "XE             7.112782         inf  \n",
      "YV             6.786667  111.000000  \n"
     ]
    }
   ],
   "source": [
    "print(df.groupby(\"UniqueCarrier\")[\"Velocitat Mitja\"].describe())"
   ]
  },
  {
   "cell_type": "code",
   "execution_count": 111,
   "metadata": {},
   "outputs": [
    {
     "name": "stdout",
     "output_type": "stream",
     "text": [
      "                  count        mean         std     min    25%   50%    75%  \\\n",
      "UniqueCarrier                                                                 \n",
      "9E              51617.0  -15.862100  377.079222 -1613.0  -98.0 -56.0 -11.00   \n",
      "AA             191062.0   48.944918  512.442683 -2395.0  -95.0 -37.0  -8.00   \n",
      "AQ                744.0    4.604839  286.522929  -578.0  -53.0 -14.0  -5.75   \n",
      "AS              39032.0   14.737036  404.381716 -2354.0  -80.0 -26.0  -6.00   \n",
      "B6              55031.0  128.514819  658.583238 -2397.0 -101.0 -34.0  -4.00   \n",
      "CO              99801.0   72.359315  540.561333 -2358.0  -83.0 -22.0  -2.00   \n",
      "DL             113812.0   30.265886  456.223532 -2388.0  -83.0 -29.0  -7.00   \n",
      "EV              81811.0  -24.947489  346.924624 -2355.0  -99.0 -49.0 -11.00   \n",
      "F9              28228.0   92.197393  545.869485 -1296.0  -60.0 -18.0  -6.00   \n",
      "FL              70994.0   39.232245  479.325336 -2398.0  -88.0 -31.0  -8.00   \n",
      "HA               7481.0   28.503542  404.962108 -1312.0  -64.0 -20.0  -9.00   \n",
      "MQ             141314.0  -26.616655  322.712772 -1692.0  -96.0 -45.0 -11.00   \n",
      "NW              78899.0   25.485051  449.380834 -2358.0  -88.0 -34.0 -10.00   \n",
      "OH              52479.0    0.122430  429.958494 -2377.0 -103.0 -59.0 -14.00   \n",
      "OO             131874.0   -9.801492  382.853308 -2397.0  -99.0 -43.0 -10.00   \n",
      "UA             140964.0   39.749965  506.076618 -2399.0  -99.0 -41.0  -7.00   \n",
      "US              98082.0   38.063763  466.765436 -2399.0  -81.0 -24.0  -4.00   \n",
      "WN             376391.0   20.208294  385.293949 -2395.0  -68.0 -17.0  -4.00   \n",
      "XE             103227.0   14.690343  455.978375 -2357.0 -100.0 -47.0  -9.00   \n",
      "YV              66805.0    8.256732  467.910792 -2399.0 -109.0 -57.0 -14.00   \n",
      "\n",
      "                  max  \n",
      "UniqueCarrier          \n",
      "9E             2357.0  \n",
      "AA             2358.0  \n",
      "AQ             2318.0  \n",
      "AS             2358.0  \n",
      "B6             2358.0  \n",
      "CO             2358.0  \n",
      "DL             2358.0  \n",
      "EV             2351.0  \n",
      "F9             2358.0  \n",
      "FL             2358.0  \n",
      "HA             2358.0  \n",
      "MQ             2356.0  \n",
      "NW             2358.0  \n",
      "OH             2357.0  \n",
      "OO             2358.0  \n",
      "UA             2358.0  \n",
      "US             2358.0  \n",
      "WN             2354.0  \n",
      "XE             2357.0  \n",
      "YV             2358.0  \n"
     ]
    }
   ],
   "source": [
    "print(df.groupby(\"UniqueCarrier\")[\"Retard\"].describe())"
   ]
  },
  {
   "cell_type": "markdown",
   "metadata": {},
   "source": [
    "Taula de les 10 aerolínies més endarrerides:"
   ]
  },
  {
   "cell_type": "code",
   "execution_count": 116,
   "metadata": {},
   "outputs": [
    {
     "name": "stdout",
     "output_type": "stream",
     "text": [
      "   UniqueCarrier     Retard\n",
      "1             AA  9351514.0\n",
      "17            WN  7606220.0\n",
      "5             CO  7221532.0\n",
      "4             B6  7072299.0\n",
      "15            UA  5603314.0\n",
      "16            US  3733370.0\n",
      "6             DL  3444621.0\n",
      "9             FL  2785254.0\n",
      "8             F9  2602548.0\n",
      "12            NW  2010745.0\n"
     ]
    }
   ],
   "source": [
    "aerolinies = df.groupby(\"UniqueCarrier\")[\"Retard\"].sum().reset_index().sort_values(\"Retard\",ascending=False)\n",
    "print(aerolinies[:10])"
   ]
  },
  {
   "cell_type": "code",
   "execution_count": 113,
   "metadata": {},
   "outputs": [
    {
     "data": {
      "text/plain": [
       "<matplotlib.axes._subplots.AxesSubplot at 0x27208320820>"
      ]
     },
     "execution_count": 113,
     "metadata": {},
     "output_type": "execute_result"
    },
    {
     "data": {
      "image/png": "[encoded data removed]",
      "text/plain": [
       "<Figure size 432x288 with 1 Axes>"
      ]
     },
     "metadata": {
      "needs_background": "light"
     },
     "output_type": "display_data"
    }
   ],
   "source": [
    "df.groupby(\"UniqueCarrier\")[\"Retard\"].sum().plot(kind=\"bar\")"
   ]
  },
  {
   "cell_type": "markdown",
   "metadata": {},
   "source": [
    "Els 20 vols més llargs:"
   ]
  },
  {
   "cell_type": "code",
   "execution_count": 117,
   "metadata": {},
   "outputs": [
    {
     "name": "stdout",
     "output_type": "stream",
     "text": [
      "        UniqueCarrier  DepTime  CRSDepTime  ArrTime  CRSArrTime  AirTime  \\\n",
      "1255581            CO   2001.0        1955   1126.0        1130    543.0   \n",
      "1926346            CO   2333.0        2055   1348.0        1120    528.0   \n",
      "718062             CO   1345.0        1335   1826.0        1810    620.0   \n",
      "1928077            CO   2135.0        2055   1148.0        1120    523.0   \n",
      "173695             CO   1326.0        1320   1912.0        1920    621.0   \n",
      "1928078            CO   1359.0        1335   2022.0        1935    637.0   \n",
      "870877             CO   1357.0        1335   1817.0        1810    592.0   \n",
      "173676             CO   1334.0        1320   1932.0        1920    617.0   \n",
      "1926347            CO   1441.0        1335   2123.0        1935    635.0   \n",
      "721700             CO   1352.0        1335   1811.0        1810    600.0   \n",
      "1257118            CO   1426.0        1335   1844.0        1810    588.0   \n",
      "871310             CO   1355.0        1335   1808.0        1810    581.0   \n",
      "1619713            CO   1405.0        1335   1812.0        1810    584.0   \n",
      "1619712            CO   2020.0        1955   1155.0        1130    545.0   \n",
      "1624162            CO   1343.0        1335   1813.0        1810    611.0   \n",
      "368996             CO   1349.0        1320   1947.0        1920    636.0   \n",
      "1256836            CO   1344.0        1335   1805.0        1810    586.0   \n",
      "1075813            CO   1345.0        1335   1836.0        1810    617.0   \n",
      "871328             CO   1530.0        1335   2028.0        1810    610.0   \n",
      "1066996            CO   1343.0        1335   1827.0        1810    618.0   \n",
      "\n",
      "         ActualElapsedTime Origin Dest  Distance  Cancelled  Diverted  \\\n",
      "1255581              565.0    HNL  EWR      4962          0         0   \n",
      "1926346              555.0    HNL  EWR      4962          0         0   \n",
      "718062               641.0    EWR  HNL      4962          0         0   \n",
      "1928077              553.0    HNL  EWR      4962          0         0   \n",
      "173695               646.0    EWR  HNL      4962          0         0   \n",
      "1928078              683.0    EWR  HNL      4962          0         0   \n",
      "870877               620.0    EWR  HNL      4962          0         0   \n",
      "173676               658.0    EWR  HNL      4962          0         0   \n",
      "1926347              702.0    EWR  HNL      4962          0         0   \n",
      "721700               619.0    EWR  HNL      4962          0         0   \n",
      "1257118              618.0    EWR  HNL      4962          0         0   \n",
      "871310               613.0    EWR  HNL      4962          0         0   \n",
      "1619713              607.0    EWR  HNL      4962          0         0   \n",
      "1619712              575.0    HNL  EWR      4962          0         0   \n",
      "1624162              630.0    EWR  HNL      4962          0         0   \n",
      "368996               658.0    EWR  HNL      4962          0         0   \n",
      "1256836              621.0    EWR  HNL      4962          0         0   \n",
      "1075813              651.0    EWR  HNL      4962          0         0   \n",
      "871328               658.0    EWR  HNL      4962          0         0   \n",
      "1066996              644.0    EWR  HNL      4962          0         0   \n",
      "\n",
      "         Velocitat Mitja  Retard Recorregut        Data  \n",
      "1255581         9.138122     4.0    HNL-EWR   2008-7-18  \n",
      "1926346         9.397727  -228.0    HNL-EWR  2008-12-20  \n",
      "718062          8.003226   -16.0    EWR-HNL   2008-4-25  \n",
      "1928077         9.487572   -28.0    HNL-EWR  2008-12-16  \n",
      "173695          7.990338     8.0    EWR-HNL   2008-1-13  \n",
      "1928078         7.789639   -87.0    EWR-HNL  2008-12-16  \n",
      "870877          8.381757    -7.0    EWR-HNL   2008-5-14  \n",
      "173676          8.042139   -12.0    EWR-HNL   2008-1-15  \n",
      "1926347         7.814173  -188.0    EWR-HNL  2008-12-20  \n",
      "721700          8.270000    -1.0    EWR-HNL   2008-4-14  \n",
      "1257118         8.438776   -34.0    EWR-HNL   2008-7-12  \n",
      "871310          8.540448     2.0    EWR-HNL   2008-5-24  \n",
      "1619713         8.496575    -2.0    EWR-HNL  2008-10-24  \n",
      "1619712         9.104587   -25.0    HNL-EWR  2008-10-24  \n",
      "1624162         8.121113    -3.0    EWR-HNL   2008-10-1  \n",
      "368996          7.801887   -27.0    EWR-HNL    2008-2-7  \n",
      "1256836         8.467577     5.0    EWR-HNL    2008-7-8  \n",
      "1075813         8.042139   -26.0    EWR-HNL   2008-6-14  \n",
      "871328          8.134426  -218.0    EWR-HNL   2008-5-28  \n",
      "1066996         8.029126   -17.0    EWR-HNL   2008-6-18  \n"
     ]
    }
   ],
   "source": [
    "print(df.sort_values(by=\"Distance\",ascending=False)[:20])"
   ]
  },
  {
   "cell_type": "markdown",
   "metadata": {},
   "source": [
    "Els 20 vols més endarrerits:"
   ]
  },
  {
   "cell_type": "code",
   "execution_count": 118,
   "metadata": {},
   "outputs": [
    {
     "name": "stdout",
     "output_type": "stream",
     "text": [
      "        UniqueCarrier  DepTime  CRSDepTime  ArrTime  CRSArrTime  AirTime  \\\n",
      "705962             AA   1930.0        1905      1.0        2359    134.0   \n",
      "293950             F9   1926.0        1915      1.0        2359    136.0   \n",
      "1076347            DL   1634.0        1556      1.0        2359    246.0   \n",
      "1188708            FL   2306.0        2259      1.0        2359     98.0   \n",
      "335637             AA   2252.0        2240      1.0        2359    109.0   \n",
      "530588             AA   2251.0        2240      1.0        2359    114.0   \n",
      "1591069            HA   1523.0        1515      1.0        2359    313.0   \n",
      "1477461            US   2221.0        2206      1.0        2359     84.0   \n",
      "1562118            OO   2239.0        2233      1.0        2359     63.0   \n",
      "1518702            CO   1556.0        1550      1.0        2359    277.0   \n",
      "869108             B6   1612.0        1550      1.0        2359    250.0   \n",
      "713295             B6   2059.0        2035      1.0        2359    143.0   \n",
      "1907848            AA   2017.0        2005      1.0        2359    147.0   \n",
      "452433             UA   2123.0        2102      1.0        2359     81.0   \n",
      "875153             CO   1539.0        1530      1.0        2359    300.0   \n",
      "162182             AA   1924.0        1905      1.0        2359    141.0   \n",
      "548511             AS   2134.0        2123      1.0        2359    132.0   \n",
      "489716             F9   1942.0        1935      1.0        2359    122.0   \n",
      "693706             AA   2250.0        2240      1.0        2359    110.0   \n",
      "1193225            FL   2206.0        2159      1.0        2359    268.0   \n",
      "\n",
      "         ActualElapsedTime Origin Dest  Distance  Cancelled  Diverted  \\\n",
      "705962               151.0    LAX  AUS      1242          0         0   \n",
      "293950               155.0    DEN  CAK      1224          0         0   \n",
      "1076347              267.0    LAS  JFK      2248          0         0   \n",
      "1188708              115.0    ATL  DFW       732          0         0   \n",
      "335637               129.0    MIA  BNA       806          0         0   \n",
      "530588               130.0    MIA  BNA       806          0         0   \n",
      "1591069              338.0    HNL  PHX      2917          0         0   \n",
      "1477461              100.0    CLT  PVD       683          0         0   \n",
      "1562118               82.0    LAX  TUS       451          0         0   \n",
      "1518702              305.0    SNA  EWR      2433          0         0   \n",
      "869108               289.0    LAS  JFK      2248          0         0   \n",
      "713295               182.0    JFK  RSW      1074          0         0   \n",
      "1907848              164.0    ORD  MIA      1197          0         0   \n",
      "452433                98.0    ORD  PHL       678          0         0   \n",
      "875153               322.0    SFO  EWR      2565          0         0   \n",
      "162182               157.0    LAX  AUS      1242          0         0   \n",
      "548511               147.0    SEA  ONT       956          0         0   \n",
      "489716               139.0    DEN  SDF      1023          0         0   \n",
      "693706               131.0    MIA  BNA       806          0         0   \n",
      "1193225              295.0    ATL  SFO      2139          0         0   \n",
      "\n",
      "         Velocitat Mitja  Retard Recorregut        Data  \n",
      "705962          9.268657  2358.0    LAX-AUS    2008-4-3  \n",
      "293950          9.000000  2358.0    DEN-CAK   2008-2-16  \n",
      "1076347         9.138211  2358.0    LAS-JFK    2008-6-1  \n",
      "1188708         7.469388  2358.0    ATL-DFW    2008-7-2  \n",
      "335637          7.394495  2358.0    MIA-BNA    2008-2-6  \n",
      "530588          7.070175  2358.0    MIA-BNA   2008-3-13  \n",
      "1591069         9.319489  2358.0    HNL-PHX  2008-10-14  \n",
      "1477461         8.130952  2358.0    CLT-PVD   2008-9-29  \n",
      "1562118         7.158730  2358.0    LAX-TUS  2008-10-17  \n",
      "1518702         8.783394  2358.0    SNA-EWR   2008-9-14  \n",
      "869108          8.992000  2358.0    LAS-JFK   2008-5-24  \n",
      "713295          7.510490  2358.0    JFK-RSW   2008-4-20  \n",
      "1907848         8.142857  2358.0    ORD-MIA  2008-12-22  \n",
      "452433          8.370370  2358.0    ORD-PHL   2008-3-26  \n",
      "875153          8.550000  2358.0    SFO-EWR    2008-5-1  \n",
      "162182          8.808511  2358.0    LAX-AUS    2008-1-7  \n",
      "548511          7.242424  2358.0    SEA-ONT   2008-3-14  \n",
      "489716          8.385246  2358.0    DEN-SDF   2008-3-29  \n",
      "693706          7.327273  2358.0    MIA-BNA    2008-4-4  \n",
      "1193225         7.981343  2358.0    ATL-SFO   2008-7-18  \n"
     ]
    }
   ],
   "source": [
    "print(df.sort_values(by=\"Retard\",ascending=False)[:20])"
   ]
  },
  {
   "cell_type": "markdown",
   "metadata": {},
   "source": [
    "Endarreriment mig de cada aerolinia:"
   ]
  },
  {
   "cell_type": "code",
   "execution_count": 119,
   "metadata": {},
   "outputs": [
    {
     "data": {
      "text/plain": [
       "<matplotlib.axes._subplots.AxesSubplot at 0x27208307dc0>"
      ]
     },
     "execution_count": 119,
     "metadata": {},
     "output_type": "execute_result"
    },
    {
     "data": {
      "image/png": "[encoded data removed]",
      "text/plain": [
       "<Figure size 432x288 with 1 Axes>"
      ]
     },
     "metadata": {
      "needs_background": "light"
     },
     "output_type": "display_data"
    }
   ],
   "source": [
    "df.groupby(\"UniqueCarrier\")[\"Retard\"].mean().plot(kind=\"bar\")"
   ]
  },
  {
   "cell_type": "markdown",
   "metadata": {},
   "source": [
    "Desviació estandard de l'endarreriment de cada aerolinia:"
   ]
  },
  {
   "cell_type": "code",
   "execution_count": 120,
   "metadata": {},
   "outputs": [
    {
     "data": {
      "text/plain": [
       "<matplotlib.axes._subplots.AxesSubplot at 0x2722fda2820>"
      ]
     },
     "execution_count": 120,
     "metadata": {},
     "output_type": "execute_result"
    },
    {
     "data": {
      "image/png": "[encoded data removed]",
      "text/plain": [
       "<Figure size 432x288 with 1 Axes>"
      ]
     },
     "metadata": {
      "needs_background": "light"
     },
     "output_type": "display_data"
    }
   ],
   "source": [
    "df.groupby(\"UniqueCarrier\")[\"Retard\"].std().plot(kind=\"bar\")"
   ]
  },
  {
   "cell_type": "markdown",
   "metadata": {},
   "source": [
    "Nº de vols que han fet les 20 aerolines amb més vols:"
   ]
  },
  {
   "cell_type": "code",
   "execution_count": 121,
   "metadata": {},
   "outputs": [
    {
     "data": {
      "text/plain": [
       "<matplotlib.axes._subplots.AxesSubplot at 0x272036b4d00>"
      ]
     },
     "execution_count": 121,
     "metadata": {},
     "output_type": "execute_result"
    },
    {
     "data": {
      "image/png": "[encoded data removed]",
      "text/plain": [
       "<Figure size 432x288 with 1 Axes>"
      ]
     },
     "metadata": {
      "needs_background": "light"
     },
     "output_type": "display_data"
    }
   ],
   "source": [
    "df[\"UniqueCarrier\"].value_counts()[:20].plot(kind=\"bar\")"
   ]
  },
  {
   "cell_type": "markdown",
   "metadata": {},
   "source": [
    "# Exercici 3\n",
    "Exportar el data set amb les noves columnes:"
   ]
  },
  {
   "cell_type": "code",
   "execution_count": 102,
   "metadata": {},
   "outputs": [],
   "source": [
    "df.to_csv(r\"RetardAerolinies.csv\",index=False)"
   ]
  },
  {
   "cell_type": "code",
   "execution_count": 105,
   "metadata": {},
   "outputs": [
    {
     "name": "stdout",
     "output_type": "stream",
     "text": [
      "  UniqueCarrier  DepTime  CRSDepTime  ArrTime  CRSArrTime  AirTime  \\\n",
      "0            WN   2003.0        1955   2211.0        2225    116.0   \n",
      "1            WN    754.0         735   1002.0        1000    113.0   \n",
      "2            WN    628.0         620    804.0         750     76.0   \n",
      "3            WN   1829.0        1755   1959.0        1925     77.0   \n",
      "4            WN   1940.0        1915   2121.0        2110     87.0   \n",
      "\n",
      "   ActualElapsedTime Origin Dest  Distance  Cancelled  Diverted  \\\n",
      "0              128.0    IAD  TPA       810          0         0   \n",
      "1              128.0    IAD  TPA       810          0         0   \n",
      "2               96.0    IND  BWI       515          0         0   \n",
      "3               90.0    IND  BWI       515          0         0   \n",
      "4              101.0    IND  JAX       688          0         0   \n",
      "\n",
      "   Velocitat Mitja  Retard Recorregut      Data  \n",
      "0         6.982759    14.0    IAD-TPA  2008-1-3  \n",
      "1         7.168142    -2.0    IAD-TPA  2008-1-3  \n",
      "2         6.776316   -54.0    IND-BWI  2008-1-3  \n",
      "3         6.688312   -34.0    IND-BWI  2008-1-3  \n",
      "4         7.908046   -11.0    IND-JAX  2008-1-3  \n"
     ]
    }
   ],
   "source": [
    "new_df=pd.read_csv(\"RetardAerolinies.csv\")\n",
    "print(new_df.head())"
   ]
  }
 ],
 "metadata": {
  "kernelspec": {
   "display_name": "Python 3",
   "language": "python",
   "name": "python3"
  },
  "language_info": {
   "codemirror_mode": {
    "name": "ipython",
    "version": 3
   },
   "file_extension": ".py",
   "mimetype": "text/x-python",
   "name": "python",
   "nbconvert_exporter": "python",
   "pygments_lexer": "ipython3",
   "version": "3.8.3"
  }
 },
 "nbformat": 4,
 "nbformat_minor": 4
}
